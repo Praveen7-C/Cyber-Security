{
  "cells": [
    {
      "cell_type": "code",
      "source": [
        "import cv2\n",
        "import os\n",
        "import string\n",
        "\n",
        "img = cv2.imread(\"Balloon.jpeg\")\n",
        "msg = input(\"Enter the secret message: \")\n",
        "password = input (\"Enter the password: \")\n",
        "\n",
        "d={}\n",
        "c={}\n",
        "\n",
        "for i in range (255):\n",
        "    d[chr(i)]=i\n",
        "    c[i] = chr(i)\n",
        "\n",
        "m=0\n",
        "n=0\n",
        "z=0\n",
        "\n",
        "for i in range (len (msg)):\n",
        "    img [n, m, z] = d[msg[i]]\n",
        "    n=n+1\n",
        "    m=m+1\n",
        "    z=(z+1)%3\n",
        "\n",
        "cv2.imwrite(\"Encryptedmsg.jpg\",img)\n",
        "os.system(\"start Encryptedmsg.jpg\")\n",
        "\n",
        "message = \" \"\n",
        "\n",
        "n=0\n",
        "m=0\n",
        "z=0\n",
        "\n",
        "passcode = input(\"Enter passcode for Decryption: \")\n",
        "\n",
        "if password == passcode:\n",
        "    for i in range (len (msg)):\n",
        "        message = message + c[img[n,m,z]]\n",
        "        n=n+1\n",
        "        m=m+1\n",
        "        z=(z+1) %3\n",
        "    print(\"Decryption message: \",message)\n",
        "else:\n",
        "    print(\"You are not authenticated\")"
      ],
      "metadata": {
        "colab": {
          "base_uri": "https://localhost:8080/"
        },
        "id": "bclyc5yXPiwK",
        "outputId": "b70ad6da-be0b-412e-f928-1b1c03c4da72"
      },
      "execution_count": null,
      "outputs": [
        {
          "output_type": "stream",
          "name": "stdout",
          "text": [
            "Enter the secret message: Hello world\n",
            "Enter the password: 1234\n",
            "Enter passcode for Decryption: 1234\n",
            "Decryption message:   Hello world\n"
          ]
        }
      ]
    }
  ],
  "metadata": {
    "colab": {
      "provenance": []
    },
    "kernelspec": {
      "display_name": "Python 3",
      "name": "python3"
    },
    "language_info": {
      "name": "python"
    }
  },
  "nbformat": 4,
  "nbformat_minor": 0
}